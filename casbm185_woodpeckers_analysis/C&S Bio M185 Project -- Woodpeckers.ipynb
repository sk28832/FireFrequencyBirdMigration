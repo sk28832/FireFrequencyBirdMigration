{
 "cells": [
  {
   "cell_type": "markdown",
   "metadata": {},
   "source": [
    "# C&S Bio M185 Project -- Woodpeckers\n",
    "\n",
    "### Introduction\n",
    "The paper we are exploring is titled the “Migratory strategy drives species-level variation in bird sensitivity to vegetation green-up,” which focuses on studying the migratory pattern of birds across different species and latitudes, specifically in relation to vegetation green-up. Researchers looked at spring migration patterns for 56 bird species across eastern North America from 2002 to 2017, ultimately finding that changes in the spring arrival of migratory birds are synchronized with fluctuations in vegetation green-up, and within species, there exists a strong latitudinal gradient in sensitivity to green-up.\n",
    "\n",
    "### Primary Question\n",
    "How do fire frequency patterns drive variation in sensitivity of bird arrival to vegetation green-up for the\n",
    "Setophaga striata?"
   ]
  },
  {
   "cell_type": "markdown",
   "metadata": {},
   "source": [
    "## Reading in datasets\n",
    "Here we read in the datasets we need to analyze the relationship between fire frequency and bird arrival. The two main datasets are the following:\n",
    "* 'data_sensi.csv' -- This file contains the data associated with species sensitivity to green up provided by the research paper. Visit [this link](https://zenodo.org/record/4549910#.Yhwo_i1h1R6) to find this data file along with all the other data from the paper.\n",
    "* 'fire_data.csv' -- This file contains fire cover data from NASA-FIRMS. Visit [this link](https://firms.modaps.eosdis.nasa.gov/data/download/DL_FIRE_J1V-C2_251815.zip) to download the data and learn more about the file."
   ]
  },
  {
   "cell_type": "code",
   "execution_count": 79,
   "metadata": {},
   "outputs": [],
   "source": [
    "import pandas as pd\n",
    "\n",
    "bird = pd.read_csv('data_sensi.csv')\n",
    "fire = pd.read_csv('fire_data.csv')"
   ]
  },
  {
   "cell_type": "markdown",
   "metadata": {},
   "source": [
    "## Learning about the data\n",
    "Here we will learn more about the data before our analysis"
   ]
  },
  {
   "cell_type": "code",
   "execution_count": 80,
   "metadata": {},
   "outputs": [
    {
     "data": {
      "text/html": [
       "<div>\n",
       "<style scoped>\n",
       "    .dataframe tbody tr th:only-of-type {\n",
       "        vertical-align: middle;\n",
       "    }\n",
       "\n",
       "    .dataframe tbody tr th {\n",
       "        vertical-align: top;\n",
       "    }\n",
       "\n",
       "    .dataframe thead th {\n",
       "        text-align: right;\n",
       "    }\n",
       "</style>\n",
       "<table border=\"1\" class=\"dataframe\">\n",
       "  <thead>\n",
       "    <tr style=\"text-align: right;\">\n",
       "      <th></th>\n",
       "      <th>sci_name</th>\n",
       "      <th>species</th>\n",
       "      <th>cell</th>\n",
       "      <th>cell_lat</th>\n",
       "      <th>cell_lng</th>\n",
       "      <th>beta_mean</th>\n",
       "      <th>beta_sd</th>\n",
       "      <th>xi_mean</th>\n",
       "      <th>xi_sd</th>\n",
       "      <th>gamma_mean</th>\n",
       "      <th>gamma_sd</th>\n",
       "    </tr>\n",
       "  </thead>\n",
       "  <tbody>\n",
       "    <tr>\n",
       "      <th>0</th>\n",
       "      <td>Archilochus_colubris</td>\n",
       "      <td>Ruby-throated Hummingbird</td>\n",
       "      <td>452</td>\n",
       "      <td>52.48</td>\n",
       "      <td>-94.42</td>\n",
       "      <td>0.137649</td>\n",
       "      <td>0.086264</td>\n",
       "      <td>0.004206</td>\n",
       "      <td>0.022077</td>\n",
       "      <td>0.011857</td>\n",
       "      <td>0.004675</td>\n",
       "    </tr>\n",
       "    <tr>\n",
       "      <th>1</th>\n",
       "      <td>Archilochus_colubris</td>\n",
       "      <td>Ruby-throated Hummingbird</td>\n",
       "      <td>480</td>\n",
       "      <td>50.79</td>\n",
       "      <td>-91.68</td>\n",
       "      <td>0.116928</td>\n",
       "      <td>0.067593</td>\n",
       "      <td>0.004206</td>\n",
       "      <td>0.022077</td>\n",
       "      <td>0.011857</td>\n",
       "      <td>0.004675</td>\n",
       "    </tr>\n",
       "    <tr>\n",
       "      <th>2</th>\n",
       "      <td>Archilochus_colubris</td>\n",
       "      <td>Ruby-throated Hummingbird</td>\n",
       "      <td>485</td>\n",
       "      <td>51.49</td>\n",
       "      <td>-69.98</td>\n",
       "      <td>0.141127</td>\n",
       "      <td>0.074993</td>\n",
       "      <td>0.004206</td>\n",
       "      <td>0.022077</td>\n",
       "      <td>0.011857</td>\n",
       "      <td>0.004675</td>\n",
       "    </tr>\n",
       "    <tr>\n",
       "      <th>3</th>\n",
       "      <td>Archilochus_colubris</td>\n",
       "      <td>Ruby-throated Hummingbird</td>\n",
       "      <td>486</td>\n",
       "      <td>50.79</td>\n",
       "      <td>-65.82</td>\n",
       "      <td>0.133372</td>\n",
       "      <td>0.073188</td>\n",
       "      <td>0.004206</td>\n",
       "      <td>0.022077</td>\n",
       "      <td>0.011857</td>\n",
       "      <td>0.004675</td>\n",
       "    </tr>\n",
       "    <tr>\n",
       "      <th>4</th>\n",
       "      <td>Archilochus_colubris</td>\n",
       "      <td>Ruby-throated Hummingbird</td>\n",
       "      <td>487</td>\n",
       "      <td>49.98</td>\n",
       "      <td>-61.82</td>\n",
       "      <td>0.123801</td>\n",
       "      <td>0.072981</td>\n",
       "      <td>0.004206</td>\n",
       "      <td>0.022077</td>\n",
       "      <td>0.011857</td>\n",
       "      <td>0.004675</td>\n",
       "    </tr>\n",
       "  </tbody>\n",
       "</table>\n",
       "</div>"
      ],
      "text/plain": [
       "               sci_name                    species  cell  cell_lat  cell_lng  \\\n",
       "0  Archilochus_colubris  Ruby-throated Hummingbird   452     52.48    -94.42   \n",
       "1  Archilochus_colubris  Ruby-throated Hummingbird   480     50.79    -91.68   \n",
       "2  Archilochus_colubris  Ruby-throated Hummingbird   485     51.49    -69.98   \n",
       "3  Archilochus_colubris  Ruby-throated Hummingbird   486     50.79    -65.82   \n",
       "4  Archilochus_colubris  Ruby-throated Hummingbird   487     49.98    -61.82   \n",
       "\n",
       "   beta_mean   beta_sd   xi_mean     xi_sd  gamma_mean  gamma_sd  \n",
       "0   0.137649  0.086264  0.004206  0.022077    0.011857  0.004675  \n",
       "1   0.116928  0.067593  0.004206  0.022077    0.011857  0.004675  \n",
       "2   0.141127  0.074993  0.004206  0.022077    0.011857  0.004675  \n",
       "3   0.133372  0.073188  0.004206  0.022077    0.011857  0.004675  \n",
       "4   0.123801  0.072981  0.004206  0.022077    0.011857  0.004675  "
      ]
     },
     "execution_count": 80,
     "metadata": {},
     "output_type": "execute_result"
    }
   ],
   "source": [
    "bird = bird.drop('Unnamed: 0', 1)\n",
    "bird.head()"
   ]
  },
  {
   "cell_type": "markdown",
   "metadata": {},
   "source": [
    "Let's only look at entries of species name Setophaga striata and see how many different entries there are"
   ]
  },
  {
   "cell_type": "code",
   "execution_count": 61,
   "metadata": {},
   "outputs": [
    {
     "data": {
      "text/plain": [
       "(103, 11)"
      ]
     },
     "execution_count": 61,
     "metadata": {},
     "output_type": "execute_result"
    }
   ],
   "source": [
    "seto = bird[bird['sci_name'] == 'Setophaga_striata']\n",
    "seto.shape"
   ]
  },
  {
   "cell_type": "markdown",
   "metadata": {},
   "source": [
    "There seems to be 103 entries for Setophaga striata"
   ]
  },
  {
   "cell_type": "code",
   "execution_count": 85,
   "metadata": {},
   "outputs": [
    {
     "data": {
      "text/html": [
       "<div>\n",
       "<style scoped>\n",
       "    .dataframe tbody tr th:only-of-type {\n",
       "        vertical-align: middle;\n",
       "    }\n",
       "\n",
       "    .dataframe tbody tr th {\n",
       "        vertical-align: top;\n",
       "    }\n",
       "\n",
       "    .dataframe thead th {\n",
       "        text-align: right;\n",
       "    }\n",
       "</style>\n",
       "<table border=\"1\" class=\"dataframe\">\n",
       "  <thead>\n",
       "    <tr style=\"text-align: right;\">\n",
       "      <th></th>\n",
       "      <th>sci_name</th>\n",
       "      <th>species</th>\n",
       "      <th>cell</th>\n",
       "      <th>cell_lat</th>\n",
       "      <th>cell_lng</th>\n",
       "      <th>beta_mean</th>\n",
       "      <th>beta_sd</th>\n",
       "      <th>xi_mean</th>\n",
       "      <th>xi_sd</th>\n",
       "      <th>gamma_mean</th>\n",
       "      <th>gamma_sd</th>\n",
       "    </tr>\n",
       "  </thead>\n",
       "  <tbody>\n",
       "    <tr>\n",
       "      <th>2580</th>\n",
       "      <td>Setophaga_striata</td>\n",
       "      <td>Blackpoll Warbler</td>\n",
       "      <td>370</td>\n",
       "      <td>59.11</td>\n",
       "      <td>-94.68</td>\n",
       "      <td>0.266711</td>\n",
       "      <td>0.184600</td>\n",
       "      <td>0.162615</td>\n",
       "      <td>0.038177</td>\n",
       "      <td>0.0086</td>\n",
       "      <td>0.005451</td>\n",
       "    </tr>\n",
       "    <tr>\n",
       "      <th>2581</th>\n",
       "      <td>Setophaga_striata</td>\n",
       "      <td>Blackpoll Warbler</td>\n",
       "      <td>398</td>\n",
       "      <td>57.40</td>\n",
       "      <td>-91.43</td>\n",
       "      <td>0.252864</td>\n",
       "      <td>0.144257</td>\n",
       "      <td>0.162615</td>\n",
       "      <td>0.038177</td>\n",
       "      <td>0.0086</td>\n",
       "      <td>0.005451</td>\n",
       "    </tr>\n",
       "    <tr>\n",
       "      <th>2582</th>\n",
       "      <td>Setophaga_striata</td>\n",
       "      <td>Blackpoll Warbler</td>\n",
       "      <td>402</td>\n",
       "      <td>58.04</td>\n",
       "      <td>-70.98</td>\n",
       "      <td>0.285263</td>\n",
       "      <td>0.133500</td>\n",
       "      <td>0.162615</td>\n",
       "      <td>0.038177</td>\n",
       "      <td>0.0086</td>\n",
       "      <td>0.005451</td>\n",
       "    </tr>\n",
       "    <tr>\n",
       "      <th>2583</th>\n",
       "      <td>Setophaga_striata</td>\n",
       "      <td>Blackpoll Warbler</td>\n",
       "      <td>403</td>\n",
       "      <td>57.40</td>\n",
       "      <td>-66.07</td>\n",
       "      <td>0.280069</td>\n",
       "      <td>0.128007</td>\n",
       "      <td>0.162615</td>\n",
       "      <td>0.038177</td>\n",
       "      <td>0.0086</td>\n",
       "      <td>0.005451</td>\n",
       "    </tr>\n",
       "    <tr>\n",
       "      <th>2584</th>\n",
       "      <td>Setophaga_striata</td>\n",
       "      <td>Blackpoll Warbler</td>\n",
       "      <td>404</td>\n",
       "      <td>56.62</td>\n",
       "      <td>-61.38</td>\n",
       "      <td>0.273203</td>\n",
       "      <td>0.129886</td>\n",
       "      <td>0.162615</td>\n",
       "      <td>0.038177</td>\n",
       "      <td>0.0086</td>\n",
       "      <td>0.005451</td>\n",
       "    </tr>\n",
       "  </tbody>\n",
       "</table>\n",
       "</div>"
      ],
      "text/plain": [
       "               sci_name            species  cell  cell_lat  cell_lng  \\\n",
       "2580  Setophaga_striata  Blackpoll Warbler   370     59.11    -94.68   \n",
       "2581  Setophaga_striata  Blackpoll Warbler   398     57.40    -91.43   \n",
       "2582  Setophaga_striata  Blackpoll Warbler   402     58.04    -70.98   \n",
       "2583  Setophaga_striata  Blackpoll Warbler   403     57.40    -66.07   \n",
       "2584  Setophaga_striata  Blackpoll Warbler   404     56.62    -61.38   \n",
       "\n",
       "      beta_mean   beta_sd   xi_mean     xi_sd  gamma_mean  gamma_sd  \n",
       "2580   0.266711  0.184600  0.162615  0.038177      0.0086  0.005451  \n",
       "2581   0.252864  0.144257  0.162615  0.038177      0.0086  0.005451  \n",
       "2582   0.285263  0.133500  0.162615  0.038177      0.0086  0.005451  \n",
       "2583   0.280069  0.128007  0.162615  0.038177      0.0086  0.005451  \n",
       "2584   0.273203  0.129886  0.162615  0.038177      0.0086  0.005451  "
      ]
     },
     "execution_count": 85,
     "metadata": {},
     "output_type": "execute_result"
    }
   ],
   "source": [
    "seto.head()"
   ]
  },
  {
   "cell_type": "markdown",
   "metadata": {},
   "source": [
    "## Data Cleaning and Preprocessing"
   ]
  },
  {
   "cell_type": "markdown",
   "metadata": {},
   "source": [
    "Here, we figure out the maximum and minimum longitudes and latitudes of the Setophaga striata dataset so that we can only focus on the fires in the region of interest"
   ]
  },
  {
   "cell_type": "code",
   "execution_count": 62,
   "metadata": {},
   "outputs": [],
   "source": [
    "max_lng = max(seto['cell_lng'])\n",
    "min_lng = min(seto['cell_lng'])"
   ]
  },
  {
   "cell_type": "code",
   "execution_count": 63,
   "metadata": {},
   "outputs": [],
   "source": [
    "max_lat = max(seto['cell_lat'])\n",
    "min_lat = min(seto['cell_lat'])"
   ]
  },
  {
   "cell_type": "code",
   "execution_count": 64,
   "metadata": {
    "scrolled": true
   },
   "outputs": [
    {
     "data": {
      "text/html": [
       "<div>\n",
       "<style scoped>\n",
       "    .dataframe tbody tr th:only-of-type {\n",
       "        vertical-align: middle;\n",
       "    }\n",
       "\n",
       "    .dataframe tbody tr th {\n",
       "        vertical-align: top;\n",
       "    }\n",
       "\n",
       "    .dataframe thead th {\n",
       "        text-align: right;\n",
       "    }\n",
       "</style>\n",
       "<table border=\"1\" class=\"dataframe\">\n",
       "  <thead>\n",
       "    <tr style=\"text-align: right;\">\n",
       "      <th></th>\n",
       "      <th>latitude</th>\n",
       "      <th>longitude</th>\n",
       "      <th>brightness</th>\n",
       "      <th>scan</th>\n",
       "      <th>track</th>\n",
       "      <th>acq_date</th>\n",
       "      <th>acq_time</th>\n",
       "      <th>satellite</th>\n",
       "      <th>instrument</th>\n",
       "      <th>confidence</th>\n",
       "      <th>version</th>\n",
       "      <th>bright_t31</th>\n",
       "      <th>frp</th>\n",
       "      <th>daynight</th>\n",
       "    </tr>\n",
       "  </thead>\n",
       "  <tbody>\n",
       "    <tr>\n",
       "      <th>0</th>\n",
       "      <td>37.26637</td>\n",
       "      <td>-82.17396</td>\n",
       "      <td>297.1</td>\n",
       "      <td>0.46</td>\n",
       "      <td>0.39</td>\n",
       "      <td>2019-12-04</td>\n",
       "      <td>700</td>\n",
       "      <td>1</td>\n",
       "      <td>VIIRS</td>\n",
       "      <td>n</td>\n",
       "      <td>2.0NRT</td>\n",
       "      <td>269.6</td>\n",
       "      <td>0.5</td>\n",
       "      <td>N</td>\n",
       "    </tr>\n",
       "    <tr>\n",
       "      <th>1</th>\n",
       "      <td>37.23580</td>\n",
       "      <td>-82.04366</td>\n",
       "      <td>316.8</td>\n",
       "      <td>0.46</td>\n",
       "      <td>0.39</td>\n",
       "      <td>2019-12-04</td>\n",
       "      <td>700</td>\n",
       "      <td>1</td>\n",
       "      <td>VIIRS</td>\n",
       "      <td>n</td>\n",
       "      <td>2.0NRT</td>\n",
       "      <td>271.8</td>\n",
       "      <td>2.2</td>\n",
       "      <td>N</td>\n",
       "    </tr>\n",
       "    <tr>\n",
       "      <th>2</th>\n",
       "      <td>34.34780</td>\n",
       "      <td>-78.76134</td>\n",
       "      <td>299.9</td>\n",
       "      <td>0.38</td>\n",
       "      <td>0.36</td>\n",
       "      <td>2019-12-04</td>\n",
       "      <td>700</td>\n",
       "      <td>1</td>\n",
       "      <td>VIIRS</td>\n",
       "      <td>n</td>\n",
       "      <td>2.0NRT</td>\n",
       "      <td>266.0</td>\n",
       "      <td>0.7</td>\n",
       "      <td>N</td>\n",
       "    </tr>\n",
       "    <tr>\n",
       "      <th>3</th>\n",
       "      <td>37.86549</td>\n",
       "      <td>-83.15558</td>\n",
       "      <td>325.3</td>\n",
       "      <td>0.51</td>\n",
       "      <td>0.41</td>\n",
       "      <td>2019-12-04</td>\n",
       "      <td>700</td>\n",
       "      <td>1</td>\n",
       "      <td>VIIRS</td>\n",
       "      <td>n</td>\n",
       "      <td>2.0NRT</td>\n",
       "      <td>272.3</td>\n",
       "      <td>2.8</td>\n",
       "      <td>N</td>\n",
       "    </tr>\n",
       "    <tr>\n",
       "      <th>4</th>\n",
       "      <td>37.86617</td>\n",
       "      <td>-83.16152</td>\n",
       "      <td>295.2</td>\n",
       "      <td>0.51</td>\n",
       "      <td>0.41</td>\n",
       "      <td>2019-12-04</td>\n",
       "      <td>700</td>\n",
       "      <td>1</td>\n",
       "      <td>VIIRS</td>\n",
       "      <td>n</td>\n",
       "      <td>2.0NRT</td>\n",
       "      <td>270.6</td>\n",
       "      <td>2.1</td>\n",
       "      <td>N</td>\n",
       "    </tr>\n",
       "  </tbody>\n",
       "</table>\n",
       "</div>"
      ],
      "text/plain": [
       "   latitude  longitude  brightness  scan  track    acq_date  acq_time  \\\n",
       "0  37.26637  -82.17396       297.1  0.46   0.39  2019-12-04       700   \n",
       "1  37.23580  -82.04366       316.8  0.46   0.39  2019-12-04       700   \n",
       "2  34.34780  -78.76134       299.9  0.38   0.36  2019-12-04       700   \n",
       "3  37.86549  -83.15558       325.3  0.51   0.41  2019-12-04       700   \n",
       "4  37.86617  -83.16152       295.2  0.51   0.41  2019-12-04       700   \n",
       "\n",
       "   satellite instrument confidence version  bright_t31  frp daynight  \n",
       "0          1      VIIRS          n  2.0NRT       269.6  0.5        N  \n",
       "1          1      VIIRS          n  2.0NRT       271.8  2.2        N  \n",
       "2          1      VIIRS          n  2.0NRT       266.0  0.7        N  \n",
       "3          1      VIIRS          n  2.0NRT       272.3  2.8        N  \n",
       "4          1      VIIRS          n  2.0NRT       270.6  2.1        N  "
      ]
     },
     "execution_count": 64,
     "metadata": {},
     "output_type": "execute_result"
    }
   ],
   "source": [
    "fire.head()"
   ]
  },
  {
   "cell_type": "markdown",
   "metadata": {},
   "source": [
    "Here, we restrict our fire dataset based on the max/min longitudes and latitudes"
   ]
  },
  {
   "cell_type": "code",
   "execution_count": 65,
   "metadata": {},
   "outputs": [
    {
     "data": {
      "text/plain": [
       "(329791, 14)"
      ]
     },
     "execution_count": 65,
     "metadata": {},
     "output_type": "execute_result"
    }
   ],
   "source": [
    "fire = fire[fire['longitude'] > min_lng]\n",
    "fire = fire[fire['longitude'] < max_lng]\n",
    "fire = fire[fire['latitude'] > min_lat]\n",
    "fire = fire[fire['latitude'] < max_lat]\n",
    "fire.shape"
   ]
  },
  {
   "cell_type": "markdown",
   "metadata": {},
   "source": [
    "Here, we splice the Setophaga striata dataset and only keep the longitude and latitude columns (we will refer to this as the *cell dataset*, but it is represented in the code as *lat_long*). Then, we clean the cell dataset (resetting entries, getting rid of potential duplicates) and add a column for the fire cover."
   ]
  },
  {
   "cell_type": "code",
   "execution_count": 70,
   "metadata": {},
   "outputs": [
    {
     "name": "stdout",
     "output_type": "stream",
     "text": [
      "(103, 2)\n",
      "(103, 2)\n",
      "     cell_lng  cell_lat  fire_cover\n",
      "0      -94.68     59.11           0\n",
      "1      -91.43     57.40           0\n",
      "2      -70.98     58.04           0\n",
      "3      -66.07     57.40           0\n",
      "4      -61.38     56.62           0\n",
      "..        ...       ...         ...\n",
      "98     -86.18     29.40           0\n",
      "99     -83.72     30.23           0\n",
      "100    -81.24     31.00           0\n",
      "101    -81.60     28.22           0\n",
      "102    -81.52     25.98           0\n",
      "\n",
      "[103 rows x 3 columns]\n"
     ]
    },
    {
     "name": "stderr",
     "output_type": "stream",
     "text": [
      "<ipython-input-70-a7e2e7f4ed1a>:3: SettingWithCopyWarning: \n",
      "A value is trying to be set on a copy of a slice from a DataFrame\n",
      "\n",
      "See the caveats in the documentation: https://pandas.pydata.org/pandas-docs/stable/user_guide/indexing.html#returning-a-view-versus-a-copy\n",
      "  lat_long.drop_duplicates(keep = 'first', inplace = True, ignore_index=True)\n",
      "<ipython-input-70-a7e2e7f4ed1a>:5: SettingWithCopyWarning: \n",
      "A value is trying to be set on a copy of a slice from a DataFrame.\n",
      "Try using .loc[row_indexer,col_indexer] = value instead\n",
      "\n",
      "See the caveats in the documentation: https://pandas.pydata.org/pandas-docs/stable/user_guide/indexing.html#returning-a-view-versus-a-copy\n",
      "  lat_long['fire_cover'] = 0\n"
     ]
    }
   ],
   "source": [
    "lat_long = seto[['cell_lng', 'cell_lat']]\n",
    "print(lat_long.shape)\n",
    "lat_long.drop_duplicates(keep = 'first', inplace = True, ignore_index=True)\n",
    "print(lat_long.shape)\n",
    "lat_long['fire_cover'] = 0\n",
    "print(lat_long)"
   ]
  },
  {
   "cell_type": "markdown",
   "metadata": {},
   "source": [
    "We go through each entry in the fire dataset and compare it to every centroid given in the cell dataset to find out which cell a certain fire is closest to. We then subsequently increase the fire cover count of that specific centroid in the cell dataset (in the fire_cover column)."
   ]
  },
  {
   "cell_type": "code",
   "execution_count": 71,
   "metadata": {},
   "outputs": [],
   "source": [
    "#For every pair of longitudes and latitudes from the fire dataset, this function compares it to the\n",
    "#centroids of all the cells by calling the dist_from_cell function and then increments the cell with\n",
    "#the least distance away from the fire\n",
    "def call_dist_from_cell(longitude, latitude):\n",
    "    \n",
    "    dists = lat_long.apply(lambda x: dist_from_cell(x.cell_lng, x.cell_lat, longitude, latitude), axis=1)\n",
    "    minDist = min(dists)\n",
    "    minInd = dists[dists == minDist].index[0]\n",
    "    lat_long.iat[minInd, 2]+=1\n",
    "    \n",
    "#This function returns the distance between the fire and the center of a certain cell.\n",
    "def dist_from_cell(cell_lng, cell_lat, lng, lat):\n",
    "        dist = (lat-cell_lat)**2 + (lng-cell_lng)**2\n",
    "        return dist"
   ]
  },
  {
   "cell_type": "code",
   "execution_count": 72,
   "metadata": {},
   "outputs": [
    {
     "data": {
      "text/html": [
       "<div>\n",
       "<style scoped>\n",
       "    .dataframe tbody tr th:only-of-type {\n",
       "        vertical-align: middle;\n",
       "    }\n",
       "\n",
       "    .dataframe tbody tr th {\n",
       "        vertical-align: top;\n",
       "    }\n",
       "\n",
       "    .dataframe thead th {\n",
       "        text-align: right;\n",
       "    }\n",
       "</style>\n",
       "<table border=\"1\" class=\"dataframe\">\n",
       "  <thead>\n",
       "    <tr style=\"text-align: right;\">\n",
       "      <th></th>\n",
       "      <th>cell_lng</th>\n",
       "      <th>cell_lat</th>\n",
       "      <th>fire_cover</th>\n",
       "    </tr>\n",
       "  </thead>\n",
       "  <tbody>\n",
       "    <tr>\n",
       "      <th>0</th>\n",
       "      <td>-94.68</td>\n",
       "      <td>59.11</td>\n",
       "      <td>0</td>\n",
       "    </tr>\n",
       "    <tr>\n",
       "      <th>1</th>\n",
       "      <td>-91.43</td>\n",
       "      <td>57.40</td>\n",
       "      <td>0</td>\n",
       "    </tr>\n",
       "    <tr>\n",
       "      <th>2</th>\n",
       "      <td>-70.98</td>\n",
       "      <td>58.04</td>\n",
       "      <td>0</td>\n",
       "    </tr>\n",
       "    <tr>\n",
       "      <th>3</th>\n",
       "      <td>-66.07</td>\n",
       "      <td>57.40</td>\n",
       "      <td>0</td>\n",
       "    </tr>\n",
       "    <tr>\n",
       "      <th>4</th>\n",
       "      <td>-61.38</td>\n",
       "      <td>56.62</td>\n",
       "      <td>0</td>\n",
       "    </tr>\n",
       "  </tbody>\n",
       "</table>\n",
       "</div>"
      ],
      "text/plain": [
       "   cell_lng  cell_lat  fire_cover\n",
       "0    -94.68     59.11           0\n",
       "1    -91.43     57.40           0\n",
       "2    -70.98     58.04           0\n",
       "3    -66.07     57.40           0\n",
       "4    -61.38     56.62           0"
      ]
     },
     "execution_count": 72,
     "metadata": {},
     "output_type": "execute_result"
    }
   ],
   "source": [
    "#Calls call_dist_from_cell for every pair of longitudes and latitudes in the fire dataset\n",
    "fire.apply(lambda x: call_dist_from_cell(x.longitude, x.latitude), axis=1)\n",
    "lat_long.head()"
   ]
  },
  {
   "cell_type": "code",
   "execution_count": 73,
   "metadata": {},
   "outputs": [],
   "source": [
    "#Export the cell dataset to a csv file\n",
    "lat_long.to_csv(\"lat_long.csv\", index = False)"
   ]
  },
  {
   "cell_type": "markdown",
   "metadata": {},
   "source": [
    "Let's see the number of unique fire cover values in our cell dataset:"
   ]
  },
  {
   "cell_type": "code",
   "execution_count": 74,
   "metadata": {},
   "outputs": [
    {
     "name": "stdout",
     "output_type": "stream",
     "text": [
      "0        47\n",
      "59        1\n",
      "4145      1\n",
      "48        1\n",
      "175       1\n",
      "4525      1\n",
      "39        1\n",
      "929       1\n",
      "32        1\n",
      "3871      1\n",
      "10142     1\n",
      "20637     1\n",
      "284       1\n",
      "5960      1\n",
      "10264     1\n",
      "23        1\n",
      "3989      1\n",
      "10900     1\n",
      "1299      1\n",
      "1554      1\n",
      "13440     1\n",
      "5722      1\n",
      "4107      1\n",
      "649       1\n",
      "5         1\n",
      "3         1\n",
      "18689     1\n",
      "15288     1\n",
      "12002     1\n",
      "7803      1\n",
      "36001     1\n",
      "121       1\n",
      "2293      1\n",
      "2932      1\n",
      "5106      1\n",
      "1905      1\n",
      "6219      1\n",
      "2027      1\n",
      "15207     1\n",
      "4798      1\n",
      "6499      1\n",
      "23522     1\n",
      "93        1\n",
      "4316      1\n",
      "4314      1\n",
      "468       1\n",
      "4432      1\n",
      "21439     1\n",
      "6605      1\n",
      "3787      1\n",
      "3400      1\n",
      "3961      1\n",
      "1732      1\n",
      "707       1\n",
      "320       1\n",
      "831       1\n",
      "10173     1\n",
      "Name: fire_cover, dtype: int64\n"
     ]
    }
   ],
   "source": [
    "print(lat_long['fire_cover'].value_counts())"
   ]
  },
  {
   "cell_type": "markdown",
   "metadata": {},
   "source": [
    "## Analysis and Graphs"
   ]
  },
  {
   "cell_type": "markdown",
   "metadata": {},
   "source": [
    "First, let's merge our cell dataset (lat_long) with the Setophaga striata dataset (seto)"
   ]
  },
  {
   "cell_type": "code",
   "execution_count": 77,
   "metadata": {},
   "outputs": [
    {
     "data": {
      "text/html": [
       "<div>\n",
       "<style scoped>\n",
       "    .dataframe tbody tr th:only-of-type {\n",
       "        vertical-align: middle;\n",
       "    }\n",
       "\n",
       "    .dataframe tbody tr th {\n",
       "        vertical-align: top;\n",
       "    }\n",
       "\n",
       "    .dataframe thead th {\n",
       "        text-align: right;\n",
       "    }\n",
       "</style>\n",
       "<table border=\"1\" class=\"dataframe\">\n",
       "  <thead>\n",
       "    <tr style=\"text-align: right;\">\n",
       "      <th></th>\n",
       "      <th>sci_name</th>\n",
       "      <th>species</th>\n",
       "      <th>cell</th>\n",
       "      <th>cell_lat</th>\n",
       "      <th>cell_lng</th>\n",
       "      <th>beta_mean</th>\n",
       "      <th>beta_sd</th>\n",
       "      <th>xi_mean</th>\n",
       "      <th>xi_sd</th>\n",
       "      <th>gamma_mean</th>\n",
       "      <th>gamma_sd</th>\n",
       "      <th>fire_cover</th>\n",
       "    </tr>\n",
       "  </thead>\n",
       "  <tbody>\n",
       "    <tr>\n",
       "      <th>0</th>\n",
       "      <td>Setophaga_striata</td>\n",
       "      <td>Blackpoll Warbler</td>\n",
       "      <td>370</td>\n",
       "      <td>59.11</td>\n",
       "      <td>-94.68</td>\n",
       "      <td>0.266711</td>\n",
       "      <td>0.184600</td>\n",
       "      <td>0.162615</td>\n",
       "      <td>0.038177</td>\n",
       "      <td>0.0086</td>\n",
       "      <td>0.005451</td>\n",
       "      <td>0</td>\n",
       "    </tr>\n",
       "    <tr>\n",
       "      <th>1</th>\n",
       "      <td>Setophaga_striata</td>\n",
       "      <td>Blackpoll Warbler</td>\n",
       "      <td>398</td>\n",
       "      <td>57.40</td>\n",
       "      <td>-91.43</td>\n",
       "      <td>0.252864</td>\n",
       "      <td>0.144257</td>\n",
       "      <td>0.162615</td>\n",
       "      <td>0.038177</td>\n",
       "      <td>0.0086</td>\n",
       "      <td>0.005451</td>\n",
       "      <td>0</td>\n",
       "    </tr>\n",
       "    <tr>\n",
       "      <th>2</th>\n",
       "      <td>Setophaga_striata</td>\n",
       "      <td>Blackpoll Warbler</td>\n",
       "      <td>402</td>\n",
       "      <td>58.04</td>\n",
       "      <td>-70.98</td>\n",
       "      <td>0.285263</td>\n",
       "      <td>0.133500</td>\n",
       "      <td>0.162615</td>\n",
       "      <td>0.038177</td>\n",
       "      <td>0.0086</td>\n",
       "      <td>0.005451</td>\n",
       "      <td>0</td>\n",
       "    </tr>\n",
       "    <tr>\n",
       "      <th>3</th>\n",
       "      <td>Setophaga_striata</td>\n",
       "      <td>Blackpoll Warbler</td>\n",
       "      <td>403</td>\n",
       "      <td>57.40</td>\n",
       "      <td>-66.07</td>\n",
       "      <td>0.280069</td>\n",
       "      <td>0.128007</td>\n",
       "      <td>0.162615</td>\n",
       "      <td>0.038177</td>\n",
       "      <td>0.0086</td>\n",
       "      <td>0.005451</td>\n",
       "      <td>0</td>\n",
       "    </tr>\n",
       "    <tr>\n",
       "      <th>4</th>\n",
       "      <td>Setophaga_striata</td>\n",
       "      <td>Blackpoll Warbler</td>\n",
       "      <td>404</td>\n",
       "      <td>56.62</td>\n",
       "      <td>-61.38</td>\n",
       "      <td>0.273203</td>\n",
       "      <td>0.129886</td>\n",
       "      <td>0.162615</td>\n",
       "      <td>0.038177</td>\n",
       "      <td>0.0086</td>\n",
       "      <td>0.005451</td>\n",
       "      <td>0</td>\n",
       "    </tr>\n",
       "  </tbody>\n",
       "</table>\n",
       "</div>"
      ],
      "text/plain": [
       "            sci_name            species  cell  cell_lat  cell_lng  beta_mean  \\\n",
       "0  Setophaga_striata  Blackpoll Warbler   370     59.11    -94.68   0.266711   \n",
       "1  Setophaga_striata  Blackpoll Warbler   398     57.40    -91.43   0.252864   \n",
       "2  Setophaga_striata  Blackpoll Warbler   402     58.04    -70.98   0.285263   \n",
       "3  Setophaga_striata  Blackpoll Warbler   403     57.40    -66.07   0.280069   \n",
       "4  Setophaga_striata  Blackpoll Warbler   404     56.62    -61.38   0.273203   \n",
       "\n",
       "    beta_sd   xi_mean     xi_sd  gamma_mean  gamma_sd  fire_cover  \n",
       "0  0.184600  0.162615  0.038177      0.0086  0.005451           0  \n",
       "1  0.144257  0.162615  0.038177      0.0086  0.005451           0  \n",
       "2  0.133500  0.162615  0.038177      0.0086  0.005451           0  \n",
       "3  0.128007  0.162615  0.038177      0.0086  0.005451           0  \n",
       "4  0.129886  0.162615  0.038177      0.0086  0.005451           0  "
      ]
     },
     "execution_count": 77,
     "metadata": {},
     "output_type": "execute_result"
    }
   ],
   "source": [
    "merged_seto = pd.merge(left = seto, right = lat_long, how = 'inner', on = ['cell_lng', 'cell_lat'])\n",
    "merged_seto.head()"
   ]
  },
  {
   "cell_type": "markdown",
   "metadata": {},
   "source": [
    "The only columns that matter to us is the beta_mean and fire_cover, so we will splice these out"
   ]
  },
  {
   "cell_type": "code",
   "execution_count": 89,
   "metadata": {},
   "outputs": [
    {
     "data": {
      "text/html": [
       "<div>\n",
       "<style scoped>\n",
       "    .dataframe tbody tr th:only-of-type {\n",
       "        vertical-align: middle;\n",
       "    }\n",
       "\n",
       "    .dataframe tbody tr th {\n",
       "        vertical-align: top;\n",
       "    }\n",
       "\n",
       "    .dataframe thead th {\n",
       "        text-align: right;\n",
       "    }\n",
       "</style>\n",
       "<table border=\"1\" class=\"dataframe\">\n",
       "  <thead>\n",
       "    <tr style=\"text-align: right;\">\n",
       "      <th></th>\n",
       "      <th>beta_mean</th>\n",
       "      <th>xi_mean</th>\n",
       "      <th>gamma_mean</th>\n",
       "      <th>fire_cover</th>\n",
       "    </tr>\n",
       "  </thead>\n",
       "  <tbody>\n",
       "    <tr>\n",
       "      <th>0</th>\n",
       "      <td>0.266711</td>\n",
       "      <td>0.162615</td>\n",
       "      <td>0.0086</td>\n",
       "      <td>0</td>\n",
       "    </tr>\n",
       "    <tr>\n",
       "      <th>1</th>\n",
       "      <td>0.252864</td>\n",
       "      <td>0.162615</td>\n",
       "      <td>0.0086</td>\n",
       "      <td>0</td>\n",
       "    </tr>\n",
       "    <tr>\n",
       "      <th>2</th>\n",
       "      <td>0.285263</td>\n",
       "      <td>0.162615</td>\n",
       "      <td>0.0086</td>\n",
       "      <td>0</td>\n",
       "    </tr>\n",
       "    <tr>\n",
       "      <th>3</th>\n",
       "      <td>0.280069</td>\n",
       "      <td>0.162615</td>\n",
       "      <td>0.0086</td>\n",
       "      <td>0</td>\n",
       "    </tr>\n",
       "    <tr>\n",
       "      <th>4</th>\n",
       "      <td>0.273203</td>\n",
       "      <td>0.162615</td>\n",
       "      <td>0.0086</td>\n",
       "      <td>0</td>\n",
       "    </tr>\n",
       "  </tbody>\n",
       "</table>\n",
       "</div>"
      ],
      "text/plain": [
       "   beta_mean   xi_mean  gamma_mean  fire_cover\n",
       "0   0.266711  0.162615      0.0086           0\n",
       "1   0.252864  0.162615      0.0086           0\n",
       "2   0.285263  0.162615      0.0086           0\n",
       "3   0.280069  0.162615      0.0086           0\n",
       "4   0.273203  0.162615      0.0086           0"
      ]
     },
     "execution_count": 89,
     "metadata": {},
     "output_type": "execute_result"
    }
   ],
   "source": [
    "seto_beta_fire = merged_seto[['beta_mean', 'xi_mean', 'gamma_mean', 'fire_cover']]\n",
    "seto_beta_fire.head()"
   ]
  },
  {
   "cell_type": "markdown",
   "metadata": {},
   "source": [
    "Here, we will plot the fire cover against the beta sensitivity and look at the correlation between them"
   ]
  },
  {
   "cell_type": "code",
   "execution_count": 95,
   "metadata": {},
   "outputs": [
    {
     "data": {
      "image/png": "[encoded data removed]",
      "text/plain": [
       "<Figure size 432x288 with 1 Axes>"
      ]
     },
     "metadata": {
      "needs_background": "light"
     },
     "output_type": "display_data"
    }
   ],
   "source": [
    "import matplotlib.pyplot as plt\n",
    "plt.scatter(seto_beta_fire['fire_cover'], seto_beta_fire['beta_mean'])\n",
    "plt.title('Fire Cover vs. Beta Sensitivity')\n",
    "plt.xlabel('Fire Cover (number of fires in cell)')\n",
    "plt.ylabel('Beta Sensitivity')\n",
    "#Saving the figure as a p\n",
    "plt.savefig('fc_vs_beta.png')"
   ]
  },
  {
   "cell_type": "code",
   "execution_count": 84,
   "metadata": {},
   "outputs": [
    {
     "data": {
      "text/html": [
       "<div>\n",
       "<style scoped>\n",
       "    .dataframe tbody tr th:only-of-type {\n",
       "        vertical-align: middle;\n",
       "    }\n",
       "\n",
       "    .dataframe tbody tr th {\n",
       "        vertical-align: top;\n",
       "    }\n",
       "\n",
       "    .dataframe thead th {\n",
       "        text-align: right;\n",
       "    }\n",
       "</style>\n",
       "<table border=\"1\" class=\"dataframe\">\n",
       "  <thead>\n",
       "    <tr style=\"text-align: right;\">\n",
       "      <th></th>\n",
       "      <th>beta_mean</th>\n",
       "      <th>fire_cover</th>\n",
       "    </tr>\n",
       "  </thead>\n",
       "  <tbody>\n",
       "    <tr>\n",
       "      <th>beta_mean</th>\n",
       "      <td>1.000000</td>\n",
       "      <td>-0.695117</td>\n",
       "    </tr>\n",
       "    <tr>\n",
       "      <th>fire_cover</th>\n",
       "      <td>-0.695117</td>\n",
       "      <td>1.000000</td>\n",
       "    </tr>\n",
       "  </tbody>\n",
       "</table>\n",
       "</div>"
      ],
      "text/plain": [
       "            beta_mean  fire_cover\n",
       "beta_mean    1.000000   -0.695117\n",
       "fire_cover  -0.695117    1.000000"
      ]
     },
     "execution_count": 84,
     "metadata": {},
     "output_type": "execute_result"
    }
   ],
   "source": [
    "seto_beta_fire.corr()"
   ]
  },
  {
   "cell_type": "markdown",
   "metadata": {},
   "source": [
    "## Conclusions"
   ]
  },
  {
   "cell_type": "markdown",
   "metadata": {},
   "source": [
    "Looking at the plot of fire cover vs. beta sensitivity, there seems to be a notable downward trend in beta sensitivity as fire cover increases. This is supported by the calculated correlation coefficient of -0.695117. Hence, we can conclude that there is a moderately strong negative correlation between fire cover and beta sensitivity of green-up on arrival for the Setophaga striata. This means that in locations of high fire cover, green-up plays a lesser role in determining the time of arrival after migration for the Setophaga striata. Likewise, areas of low fire cover see the Setophaga sync their arrival time to green-up at a much higher degree.\n",
    "\n"
   ]
  }
 ],
 "metadata": {
  "kernelspec": {
   "display_name": "Python 3",
   "language": "python",
   "name": "python3"
  },
  "language_info": {
   "codemirror_mode": {
    "name": "ipython",
    "version": 3
   },
   "file_extension": ".py",
   "mimetype": "text/x-python",
   "name": "python",
   "nbconvert_exporter": "python",
   "pygments_lexer": "ipython3",
   "version": "3.8.5"
  }
 },
 "nbformat": 4,
 "nbformat_minor": 4
}
